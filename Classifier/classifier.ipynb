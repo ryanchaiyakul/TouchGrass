{
 "cells": [
  {
   "cell_type": "code",
   "execution_count": null,
   "metadata": {},
   "outputs": [],
   "source": [
    "# We are creating a classifier to predict whether a person is touching grass or not\n",
    "# We are using the data from a temp and humidity sensor and a uv sensor to predict whether a person is touching grass or not\n",
    "\n",
    "# Importing the libraries\n",
    "import numpy as np\n",
    "import matplotlib.pyplot as plt\n",
    "import pandas as pd\n",
    "import json\n",
    "import seaborn as sns\n",
    "from sklearn.model_selection import train_test_split\n",
    "from sklearn.preprocessing import StandardScaler\n",
    "# use GradientBoostingClassifier\n",
    "from sklearn.ensemble import GradientBoostingClassifier\n",
    "from sklearn.metrics import confusion_matrix, accuracy_score\n",
    "from sklearn.model_selection import cross_val_score\n",
    "from sklearn.model_selection import GridSearchCV"
   ]
  },
  {
   "cell_type": "code",
   "execution_count": null,
   "metadata": {},
   "outputs": [],
   "source": [
    "# Importing the dataset\n",
    "dataset = json.load(open('train.json'))"
   ]
  },
  {
   "cell_type": "code",
   "execution_count": null,
   "metadata": {},
   "outputs": [],
   "source": [
    "df = pd.DataFrame(dataset)\n",
    "\n",
    "df['class'] = df['class'].map({'Touching Grass': 1, 'Not Touching Grass': 0})\n",
    "\n",
    "X = df.iloc[:, :-1].values\n",
    "y = df.iloc[:, 3].values\n",
    "X_train, X_test, y_train, y_test = train_test_split(X, y, test_size = 0.25, random_state = 0)\n",
    "\n",
    "sc = StandardScaler()\n",
    "X_train = sc.fit_transform(X_train)\n",
    "X_test = sc.transform(X_test)\n",
    "classifier = GradientBoostingClassifier()\n",
    "classifier.fit(X_train, y_train)\n",
    "y_pred = classifier.predict(X_test)\n",
    "\n",
    "cm = confusion_matrix(y_test, y_pred)\n",
    "accuracy = accuracy_score(y_test, y_pred)\n",
    "accuracies = cross_val_score(estimator = classifier, X = X_train, y = y_train, cv = 10)\n",
    "mean = accuracies.mean()\n",
    "std = accuracies.std()\n",
    "\n",
    "parameters = [{'learning_rate': [0.1, 0.01, 0.001], 'n_estimators': [100, 200, 300]}]\n",
    "grid_search = GridSearchCV(estimator = classifier,\n",
    "                            param_grid = parameters,\n",
    "                            scoring = 'accuracy',\n",
    "                            cv = 10,\n",
    "                            n_jobs = -1)\n",
    "grid_search = grid_search.fit(X_train, y_train)\n",
    "best_accuracy = grid_search.best_score_\n",
    "best_parameters = grid_search.best_params_\n",
    "\n",
    "print(best_accuracy)\n",
    "print(best_parameters)\n",
    "new_classifier = GradientBoostingClassifier(learning_rate = best_parameters['learning_rate'], n_estimators = best_parameters['n_estimators'])\n",
    "# train the new classifier\n",
    "new_classifier.fit(X_train, y_train)\n",
    "# predict the test set results\n",
    "new_y_pred = new_classifier.predict(X_test)\n",
    "print(new_classifier.score(X_test, y_test))\n",
    "\n"
   ]
  },
  {
   "cell_type": "code",
   "execution_count": null,
   "metadata": {},
   "outputs": [],
   "source": [
    "# Now we need to export the classifier to a file so that we can use it for iOS\n",
    "import coremltools\n",
    "coreml_model = coremltools.converters.sklearn.convert(new_classifier, ['temp', 'humidity', 'uv'], 'class')\n",
    "coreml_model.save('tuchgrass.mlmodel')"
   ]
  }
 ],
 "metadata": {
  "kernelspec": {
   "display_name": "Python 3",
   "language": "python",
   "name": "python3"
  },
  "language_info": {
   "codemirror_mode": {
    "name": "ipython",
    "version": 3
   },
   "file_extension": ".py",
   "mimetype": "text/x-python",
   "name": "python",
   "nbconvert_exporter": "python",
   "pygments_lexer": "ipython3",
   "version": "3.10.8 (tags/v3.10.8:aaaf517, Oct 11 2022, 16:50:30) [MSC v.1933 64 bit (AMD64)]"
  },
  "orig_nbformat": 4,
  "vscode": {
   "interpreter": {
    "hash": "32561ba1759170f963527c76bfe443f9a0496a12187ebbce696d049c1ac26687"
   }
  }
 },
 "nbformat": 4,
 "nbformat_minor": 2
}
